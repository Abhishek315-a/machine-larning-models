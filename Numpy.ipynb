{
  "nbformat": 4,
  "nbformat_minor": 0,
  "metadata": {
    "colab": {
      "provenance": [],
      "authorship_tag": "ABX9TyPrbq51Ue8cLGOJGHZDV1HV",
      "include_colab_link": true
    },
    "kernelspec": {
      "name": "python3",
      "display_name": "Python 3"
    },
    "language_info": {
      "name": "python"
    }
  },
  "cells": [
    {
      "cell_type": "markdown",
      "metadata": {
        "id": "view-in-github",
        "colab_type": "text"
      },
      "source": [
        "<a href=\"https://colab.research.google.com/github/Abhishek315-a/machine-larning-models/blob/main/Numpy.ipynb\" target=\"_parent\"><img src=\"https://colab.research.google.com/assets/colab-badge.svg\" alt=\"Open In Colab\"/></a>"
      ]
    },
    {
      "cell_type": "markdown",
      "source": [
        "# 🧮 **What is NumPy?**\n",
        "\n",
        "NumPy stands for Numerical Python.\n",
        "It’s a **Python library** used for **numerical and scientific computing** — especially when dealing with large amounts of data.\n",
        "\n",
        "It provides:\n",
        "\n",
        "* A powerful n-dimensional array object (ndarray)\n",
        "\n",
        "* Tools for mathematical, logical, and statistical operations\n",
        "\n",
        "* Functions for linear algebra, Fourier transforms, and random number generation"
      ],
      "metadata": {
        "id": "ZpB0SSCKB9cI"
      }
    },
    {
      "cell_type": "markdown",
      "source": [
        "#🔹 Why Use NumPy?\n",
        "\n",
        "Because it’s much faster and more efficient than regular Python lists.\n",
        "\n",
        "Let’s compare 👇\n",
        "\n",
        "Without NumPy (using lists)"
      ],
      "metadata": {
        "id": "f5BAJDZyCbmo"
      }
    },
    {
      "cell_type": "code",
      "execution_count": null,
      "metadata": {
        "colab": {
          "base_uri": "https://localhost:8080/"
        },
        "id": "RFW_KZNlBFVo",
        "outputId": "3c1875aa-e686-4e8e-ad37-ee49d3abdcf7"
      },
      "outputs": [
        {
          "output_type": "stream",
          "name": "stdout",
          "text": [
            "[2, 4, 6, 8, 10]\n"
          ]
        }
      ],
      "source": [
        "my_list = [1, 2, 3, 4, 5]\n",
        "result = [x * 2 for x in my_list]\n",
        "print(result)\n"
      ]
    },
    {
      "cell_type": "markdown",
      "source": [
        "With NumPy"
      ],
      "metadata": {
        "id": "KJuELaHKClmW"
      }
    },
    {
      "cell_type": "code",
      "source": [
        "import numpy as np\n",
        "arr = np.array([1, 2, 3, 4, 5])\n",
        "print(arr * 2)\n"
      ],
      "metadata": {
        "colab": {
          "base_uri": "https://localhost:8080/"
        },
        "id": "t0J_v-lPCfiI",
        "outputId": "ca9897d7-25bb-4761-a450-32a658b68a51"
      },
      "execution_count": null,
      "outputs": [
        {
          "output_type": "stream",
          "name": "stdout",
          "text": [
            "[ 2  4  6  8 10]\n"
          ]
        }
      ]
    },
    {
      "cell_type": "markdown",
      "source": [
        "✅ NumPy arrays are faster and can do element-wise operations directly (no loops needed!)."
      ],
      "metadata": {
        "id": "PLBmcfZrCsM-"
      }
    },
    {
      "cell_type": "markdown",
      "source": [
        "#🔹 Key Features of NumPy\n",
        "| Feature                    | Description                                    |\n",
        "| -------------------------- | ---------------------------------------------- |\n",
        "| **ndarray**                | Multi-dimensional array object                 |\n",
        "| **Broadcasting**           | Apply operations to arrays of different shapes |\n",
        "| **Vectorization**          | Perform fast element-wise operations           |\n",
        "| **Mathematical functions** | `sum()`, `mean()`, `sqrt()`, etc.              |\n",
        "| **Linear Algebra**         | Matrix multiplication, inversion, eigenvalues  |\n",
        "| **Random Module**          | Random numbers, distributions, sampling        |\n"
      ],
      "metadata": {
        "id": "nAqyb3iCDET5"
      }
    },
    {
      "cell_type": "code",
      "source": [
        "print(np.__version__)"
      ],
      "metadata": {
        "colab": {
          "base_uri": "https://localhost:8080/"
        },
        "id": "l5ZSo97fCn3g",
        "outputId": "6e8ff113-f048-490f-d456-a746ed69ec24"
      },
      "execution_count": null,
      "outputs": [
        {
          "output_type": "stream",
          "name": "stdout",
          "text": [
            "2.0.2\n"
          ]
        }
      ]
    },
    {
      "cell_type": "code",
      "source": [
        "import numpy as np\n",
        "print(np.__version__)"
      ],
      "metadata": {
        "colab": {
          "base_uri": "https://localhost:8080/"
        },
        "id": "Edxdxe-IG54G",
        "outputId": "c78df194-728c-4829-c1ab-02f637e3c8b4"
      },
      "execution_count": null,
      "outputs": [
        {
          "output_type": "stream",
          "name": "stdout",
          "text": [
            "2.3.3\n"
          ]
        }
      ]
    },
    {
      "cell_type": "markdown",
      "source": [
        "# Zero Dimensional Array"
      ],
      "metadata": {
        "id": "AQ6pOGF9IeNy"
      }
    },
    {
      "cell_type": "code",
      "source": [
        "arr = np.array('Abhishek')"
      ],
      "metadata": {
        "id": "kapTBN3kHSal"
      },
      "execution_count": null,
      "outputs": []
    },
    {
      "cell_type": "code",
      "source": [
        "arr"
      ],
      "metadata": {
        "colab": {
          "base_uri": "https://localhost:8080/"
        },
        "id": "LMXUzYH_Ij7s",
        "outputId": "453a9d27-a3c9-493b-86a9-f4023bb9508a"
      },
      "execution_count": null,
      "outputs": [
        {
          "output_type": "execute_result",
          "data": {
            "text/plain": [
              "array('Abhishek', dtype='<U8')"
            ]
          },
          "metadata": {},
          "execution_count": 5
        }
      ]
    },
    {
      "cell_type": "code",
      "source": [
        "print(arr.ndim)"
      ],
      "metadata": {
        "colab": {
          "base_uri": "https://localhost:8080/"
        },
        "id": "S5C9FbsiIkgA",
        "outputId": "d9189f4d-7964-4103-a6e9-0024275ed36e"
      },
      "execution_count": null,
      "outputs": [
        {
          "output_type": "stream",
          "name": "stdout",
          "text": [
            "0\n"
          ]
        }
      ]
    },
    {
      "cell_type": "markdown",
      "source": [
        "# 1 Dimensional Array"
      ],
      "metadata": {
        "id": "4YzyP4GPIx5P"
      }
    },
    {
      "cell_type": "code",
      "source": [
        "arr = np.array([1,2,3,4,5])"
      ],
      "metadata": {
        "id": "UX0UfuM9Ioy7"
      },
      "execution_count": null,
      "outputs": []
    },
    {
      "cell_type": "code",
      "source": [
        "print(arr)\n",
        "print(arr.ndim)"
      ],
      "metadata": {
        "colab": {
          "base_uri": "https://localhost:8080/"
        },
        "id": "acsg9ngDI3qO",
        "outputId": "67d68fcb-157c-4e85-b16e-0f9056dab6d5"
      },
      "execution_count": null,
      "outputs": [
        {
          "output_type": "stream",
          "name": "stdout",
          "text": [
            "[1 2 3 4 5]\n",
            "1\n"
          ]
        }
      ]
    },
    {
      "cell_type": "markdown",
      "source": [
        "# 2 Dimensional Array"
      ],
      "metadata": {
        "id": "iXecM_EnJGAA"
      }
    },
    {
      "cell_type": "code",
      "source": [
        "arr = np.array([[1,2,3,4,5],\n",
        "                [6,7,8,9,10]])"
      ],
      "metadata": {
        "id": "0JMZZ8-2I5T6"
      },
      "execution_count": null,
      "outputs": []
    },
    {
      "cell_type": "code",
      "source": [
        "print(arr)\n",
        "print('Dimension : ',arr.ndim)"
      ],
      "metadata": {
        "colab": {
          "base_uri": "https://localhost:8080/"
        },
        "id": "5qlEZLUbJQPI",
        "outputId": "25d14969-1b86-406b-c714-eeee924a4106"
      },
      "execution_count": null,
      "outputs": [
        {
          "output_type": "stream",
          "name": "stdout",
          "text": [
            "[[ 1  2  3  4  5]\n",
            " [ 6  7  8  9 10]]\n",
            "Dimension :  2\n"
          ]
        }
      ]
    },
    {
      "cell_type": "markdown",
      "source": [
        "# 3 Dimension Array"
      ],
      "metadata": {
        "id": "h-ukIltEJ4AV"
      }
    },
    {
      "cell_type": "code",
      "source": [
        "arr = np.array([[[1,2],[3,4]],\n",
        "                [[12,23],[43,54]],\n",
        "                [[23,43],[87,67]]])"
      ],
      "metadata": {
        "id": "313iAmqWJX6m"
      },
      "execution_count": null,
      "outputs": []
    },
    {
      "cell_type": "code",
      "source": [
        "print(arr)\n",
        "print('Dimension : ',arr.ndim)\n",
        "print(arr.shape)"
      ],
      "metadata": {
        "colab": {
          "base_uri": "https://localhost:8080/"
        },
        "id": "jcf3g127KJim",
        "outputId": "4c51721f-0552-47b5-d6d2-be3c3eee7a0b"
      },
      "execution_count": null,
      "outputs": [
        {
          "output_type": "stream",
          "name": "stdout",
          "text": [
            "[[[ 1  2]\n",
            "  [ 3  4]]\n",
            "\n",
            " [[12 23]\n",
            "  [43 54]]\n",
            "\n",
            " [[23 43]\n",
            "  [87 67]]]\n",
            "Dimension :  3\n",
            "(3, 2, 2)\n"
          ]
        }
      ]
    },
    {
      "cell_type": "code",
      "source": [
        "print(arr[0][0][0]) # chain indexing\n",
        "print(arr[0,0,0]) # numpy indexing it is faster\n",
        "# both are same"
      ],
      "metadata": {
        "colab": {
          "base_uri": "https://localhost:8080/"
        },
        "id": "P_UduxefKMGq",
        "outputId": "386264b8-0f84-492c-eb9f-1b69d966c6af"
      },
      "execution_count": null,
      "outputs": [
        {
          "output_type": "stream",
          "name": "stdout",
          "text": [
            "1\n",
            "1\n"
          ]
        }
      ]
    },
    {
      "cell_type": "markdown",
      "source": [
        "# 🧮 What is Slicing in NumPy?\n",
        "\n",
        "Slicing means extracting a part (subset) of an array.\n",
        "It works just like Python list slicing, but with extra power for multi-dimensional arrays."
      ],
      "metadata": {
        "id": "fGhML6GVNRDi"
      }
    },
    {
      "cell_type": "markdown",
      "source": [
        "# 🔹 Basic Syntax\n",
        "array[start:stop:step]\n",
        "| Part    | Meaning                   |\n",
        "| ------- | ------------------------- |\n",
        "| `start` | Starting index (included) |\n",
        "| `stop`  | Ending index (excluded)   |\n",
        "| `step`  | Step size (optional)      |\n"
      ],
      "metadata": {
        "id": "DQPtkM-_NVe_"
      }
    },
    {
      "cell_type": "code",
      "source": [
        "import numpy as np\n",
        "\n",
        "arr = np.array([10, 20, 30, 40, 50, 60])\n",
        "\n",
        "print(arr[1:4])     # Elements from index 1 to 3 → [20 30 40]\n",
        "print(arr[:3])      # From start to index 2 → [10 20 30]\n",
        "print(arr[3:])      # From index 3 to end → [40 50 60]\n",
        "print(arr[::2])     # Every 2nd element → [10 30 50]\n",
        "print(arr[::-1])    # Reversed array → [60 50 40 30 20 10]\n"
      ],
      "metadata": {
        "colab": {
          "base_uri": "https://localhost:8080/"
        },
        "id": "kOGj6zk8K3Kq",
        "outputId": "9f2b5c8c-e6eb-4ef2-ab30-7283b174a140"
      },
      "execution_count": null,
      "outputs": [
        {
          "output_type": "stream",
          "name": "stdout",
          "text": [
            "[20 30 40]\n",
            "[10 20 30]\n",
            "[40 50 60]\n",
            "[10 30 50]\n",
            "[60 50 40 30 20 10]\n"
          ]
        }
      ]
    },
    {
      "cell_type": "code",
      "source": [
        "arr = np.array([[1, 2, 3, 4],\n",
        "                [5, 6, 7, 8],\n",
        "                [9, 10, 11, 12]])\n",
        "\n",
        "# Entire 2nd row\n",
        "print(arr[1, :])        # [5 6 7 8]\n",
        "\n",
        "# Entire 3rd column\n",
        "print(arr[:, 2])        # [ 3 7 11]\n",
        "\n",
        "# Subarray (first 2 rows, first 3 columns)\n",
        "print(arr[0:2, 0:3])\n",
        "# [[1 2 3]\n",
        "#  [5 6 7]]\n",
        "\n",
        "# Last two rows and last two columns\n",
        "print(arr[1:, 2:])\n",
        "# [[ 7 8]\n",
        "#  [11 12]]\n"
      ],
      "metadata": {
        "colab": {
          "base_uri": "https://localhost:8080/"
        },
        "id": "GdVf5ng_NgbK",
        "outputId": "3c6f0a59-4feb-4948-f5e9-9c2f3b65e95f"
      },
      "execution_count": null,
      "outputs": [
        {
          "output_type": "stream",
          "name": "stdout",
          "text": [
            "[5 6 7 8]\n",
            "[ 3  7 11]\n",
            "[[1 2 3]\n",
            " [5 6 7]]\n",
            "[[ 7  8]\n",
            " [11 12]]\n"
          ]
        }
      ]
    },
    {
      "cell_type": "markdown",
      "source": [
        "#🧮 What are Arithmetic Operations in NumPy?\n",
        "\n",
        "NumPy allows you to perform mathematical operations directly on arrays, element by element — without using loops.\n",
        "\n",
        "This is called vectorization, and it makes calculations extremely fast ⚡."
      ],
      "metadata": {
        "id": "Uz2Pn5YzPVCB"
      }
    },
    {
      "cell_type": "markdown",
      "source": [
        "# 🔹 Example 1: Basic Arithmetic"
      ],
      "metadata": {
        "id": "N8byiEOOPac1"
      }
    },
    {
      "cell_type": "code",
      "source": [
        "import numpy as np\n",
        "\n",
        "a = np.array([10, 20, 30, 40])\n",
        "b = np.array([1, 2, 3, 4])\n",
        "\n",
        "print(a + b)   # [11 22 33 44]\n",
        "print(a - b)   # [ 9 18 27 36]\n",
        "print(a * b)   # [10 40 90 160]\n",
        "print(a / b)   # [10.   10.   10.   10.]\n",
        "print(a % b)   # [0 0 0 0]\n",
        "#✅ Operations happen element-wise\n",
        "#(i.e., first element of a with first of b, second with second, etc.)\n"
      ],
      "metadata": {
        "colab": {
          "base_uri": "https://localhost:8080/"
        },
        "id": "334eu5YeNj0L",
        "outputId": "d7ace26d-3728-47d7-eda1-6608f68c6627"
      },
      "execution_count": null,
      "outputs": [
        {
          "output_type": "stream",
          "name": "stdout",
          "text": [
            "[11 22 33 44]\n",
            "[ 9 18 27 36]\n",
            "[ 10  40  90 160]\n",
            "[10. 10. 10. 10.]\n",
            "[0 0 0 0]\n"
          ]
        }
      ]
    },
    {
      "cell_type": "markdown",
      "source": [
        "#🔹 Example 2: Scalar Operations\n",
        "\n",
        "You can perform operations with a single number (scalar):"
      ],
      "metadata": {
        "id": "M_nHcQp3PlW_"
      }
    },
    {
      "cell_type": "code",
      "source": [
        "a = np.array([10, 20, 30])\n",
        "\n",
        "print(a + 5)   # [15 25 35]\n",
        "print(a * 2)   # [20 40 60]\n",
        "print(a / 10)  # [1. 2. 3.]\n",
        "#👉 The scalar is broadcasted to every element (thanks to NumPy’s broadcasting feature)."
      ],
      "metadata": {
        "colab": {
          "base_uri": "https://localhost:8080/"
        },
        "id": "zXk7-LJOPdES",
        "outputId": "a7bbb4d7-544e-4111-d83a-86e248227211"
      },
      "execution_count": null,
      "outputs": [
        {
          "output_type": "stream",
          "name": "stdout",
          "text": [
            "[15 25 35]\n",
            "[20 40 60]\n",
            "[1. 2. 3.]\n"
          ]
        }
      ]
    },
    {
      "cell_type": "markdown",
      "source": [
        "# 🔹 Example 3: Arithmetic on 2D Arrays"
      ],
      "metadata": {
        "id": "nGJZ8SukPuA-"
      }
    },
    {
      "cell_type": "code",
      "source": [
        "A = np.array([[1, 2], [3, 4]])\n",
        "B = np.array([[5, 6], [7, 8]])\n",
        "\n",
        "print(A + B)\n",
        "# [[ 6  8]\n",
        "#  [10 12]]\n",
        "\n",
        "print(A * B)\n",
        "# [[ 5 12]\n",
        "#  [21 32]]\n",
        "\n",
        "print(A / B)\n",
        "# [[0.2        0.33333333]\n",
        "#  [0.42857143 0.5       ]]\n"
      ],
      "metadata": {
        "colab": {
          "base_uri": "https://localhost:8080/"
        },
        "id": "dKjvPqaFPrIf",
        "outputId": "163f1c4b-2f3b-4a77-bff1-519c97877e2a"
      },
      "execution_count": null,
      "outputs": [
        {
          "output_type": "stream",
          "name": "stdout",
          "text": [
            "[[ 6  8]\n",
            " [10 12]]\n",
            "[[ 5 12]\n",
            " [21 32]]\n",
            "[[0.2        0.33333333]\n",
            " [0.42857143 0.5       ]]\n"
          ]
        }
      ]
    },
    {
      "cell_type": "markdown",
      "source": [
        "# 🔹 Example 4: Using NumPy Mathematical Functions\n",
        "\n",
        "NumPy provides many built-in functions for element-wise math:"
      ],
      "metadata": {
        "id": "ug1HCphIP0HO"
      }
    },
    {
      "cell_type": "code",
      "source": [
        "a = np.array([1, 4, 9, 16])\n",
        "\n",
        "print(np.sqrt(a))   # [1. 2. 3. 4.]\n",
        "print(np.exp(a))    # e^x\n",
        "print(np.log(a))    # natural log\n",
        "print(np.sin(a))    # sine values\n",
        "print(np.mean(a))   # average = 7.5\n",
        "print(np.max(a))    # 16\n",
        "print(np.sum(a))    # 30\n"
      ],
      "metadata": {
        "colab": {
          "base_uri": "https://localhost:8080/"
        },
        "id": "GguM1NbDPxiJ",
        "outputId": "c224445c-af6a-47a7-e733-459798229fcb"
      },
      "execution_count": null,
      "outputs": [
        {
          "output_type": "stream",
          "name": "stdout",
          "text": [
            "[1. 2. 3. 4.]\n",
            "[2.71828183e+00 5.45981500e+01 8.10308393e+03 8.88611052e+06]\n",
            "[0.         1.38629436 2.19722458 2.77258872]\n",
            "[ 0.84147098 -0.7568025   0.41211849 -0.28790332]\n",
            "7.5\n",
            "16\n",
            "30\n"
          ]
        }
      ]
    },
    {
      "cell_type": "markdown",
      "source": [
        "# 🔹 Example 5: Matrix Multiplication\n",
        "\n",
        "Element-wise multiplication (*) is not matrix multiplication.\n",
        "\n",
        "For actual matrix multiplication, use:"
      ],
      "metadata": {
        "id": "xnCr2Xv0QBX3"
      }
    },
    {
      "cell_type": "code",
      "source": [
        "A = np.array([[1, 2], [3, 4]])\n",
        "B = np.array([[5, 6], [7, 8]])\n",
        "\n",
        "print(np.dot(A, B))\n",
        "# or equivalently:\n",
        "print(A @ B)\n"
      ],
      "metadata": {
        "colab": {
          "base_uri": "https://localhost:8080/"
        },
        "id": "sIv2OH0bP4bS",
        "outputId": "81a94715-3a90-4baf-da76-7f08e3b6acf9"
      },
      "execution_count": null,
      "outputs": [
        {
          "output_type": "stream",
          "name": "stdout",
          "text": [
            "[[19 22]\n",
            " [43 50]]\n",
            "[[19 22]\n",
            " [43 50]]\n"
          ]
        }
      ]
    },
    {
      "cell_type": "markdown",
      "source": [
        "# 🔹 Example 6: Broadcasting (Different Shapes)\n",
        "\n",
        "NumPy can automatically match array shapes to perform arithmetic:"
      ],
      "metadata": {
        "id": "9GE2r8poQM1z"
      }
    },
    {
      "cell_type": "code",
      "source": [
        "A = np.array([[1, 2, 3],\n",
        "              [4, 5, 6]])\n",
        "B = np.array([10, 20, 30])\n",
        "\n",
        "print(A + B)\n",
        "# [[11 22 33]\n",
        "#  [14 25 36]]\n",
        "# 🔸 B is broadcasted across each row of A.\n"
      ],
      "metadata": {
        "colab": {
          "base_uri": "https://localhost:8080/"
        },
        "id": "7FWvYw4ZQFq0",
        "outputId": "1e853925-c7a7-4228-9eac-d9c940508ec4"
      },
      "execution_count": null,
      "outputs": [
        {
          "output_type": "stream",
          "name": "stdout",
          "text": [
            "[[11 22 33]\n",
            " [14 25 36]]\n"
          ]
        }
      ]
    },
    {
      "cell_type": "markdown",
      "source": [
        "| Operation             | Symbol            | Example  | Result                        |\n",
        "| --------------------- | ----------------- | -------- | ----------------------------- |\n",
        "| Addition              | `+`               | `a + b`  | Element-wise sum              |\n",
        "| Subtraction           | `-`               | `a - b`  | Element-wise difference       |\n",
        "| Multiplication        | `*`               | `a * b`  | Element-wise product          |\n",
        "| Division              | `/`               | `a / b`  | Element-wise division         |\n",
        "| Power                 | `**`              | `a ** 2` | Square of each element        |\n",
        "| Matrix Multiplication | `@` or `np.dot()` | `A @ B`  | Linear algebra multiplication |\n"
      ],
      "metadata": {
        "id": "wM3dvcApQcSN"
      }
    },
    {
      "cell_type": "code",
      "source": [
        "array1 = np.array([[1,2,3,4,5,6,7,8,9,10]])\n",
        "array2 = np.array([[1],[2],[3],[4],[5],[6],[7],[8],[9],[10]])\n",
        "print(array1.shape)\n",
        "print(array2.shape)"
      ],
      "metadata": {
        "colab": {
          "base_uri": "https://localhost:8080/"
        },
        "id": "-Xz7uWGIQQdN",
        "outputId": "8371af28-1923-4f4d-e170-fefe83023cbf"
      },
      "execution_count": null,
      "outputs": [
        {
          "output_type": "stream",
          "name": "stdout",
          "text": [
            "(1, 10)\n",
            "(10, 1)\n"
          ]
        }
      ]
    },
    {
      "cell_type": "code",
      "source": [
        "print(array1*array2)"
      ],
      "metadata": {
        "colab": {
          "base_uri": "https://localhost:8080/"
        },
        "id": "F8pM1ZuURxPP",
        "outputId": "47dfdcb1-1729-4a4e-e3bc-525af5f359c9"
      },
      "execution_count": null,
      "outputs": [
        {
          "output_type": "stream",
          "name": "stdout",
          "text": [
            "[[  1   2   3   4   5   6   7   8   9  10]\n",
            " [  2   4   6   8  10  12  14  16  18  20]\n",
            " [  3   6   9  12  15  18  21  24  27  30]\n",
            " [  4   8  12  16  20  24  28  32  36  40]\n",
            " [  5  10  15  20  25  30  35  40  45  50]\n",
            " [  6  12  18  24  30  36  42  48  54  60]\n",
            " [  7  14  21  28  35  42  49  56  63  70]\n",
            " [  8  16  24  32  40  48  56  64  72  80]\n",
            " [  9  18  27  36  45  54  63  72  81  90]\n",
            " [ 10  20  30  40  50  60  70  80  90 100]]\n"
          ]
        }
      ]
    },
    {
      "cell_type": "markdown",
      "source": [
        "# Filtering\n",
        "in NumPy means selecting elements from an array that meet certain conditions — kind of like applying a filter to extract only the values you want."
      ],
      "metadata": {
        "id": "1j0xuxBDLHx8"
      }
    },
    {
      "cell_type": "markdown",
      "source": [
        "🧠 1. Basic Concept\n",
        "\n",
        "Filtering is usually done using boolean indexing.\n",
        "You create a boolean array (True/False) based on a condition, and then use it to index the main array."
      ],
      "metadata": {
        "id": "5-0Ypq2BLRpN"
      }
    },
    {
      "cell_type": "code",
      "source": [
        "import numpy as np\n",
        "\n",
        "arr = np.array([10, 20, 30, 40, 50])\n",
        "\n",
        "# Filter elements greater than 25\n",
        "filter_arr = arr > 25\n",
        "\n",
        "print(filter_arr)\n",
        "# Output: [False False  True  True  True]\n",
        "\n",
        "print(arr[filter_arr])\n",
        "# Output: [30 40 50]\n"
      ],
      "metadata": {
        "id": "V8KIhWBKR4K5",
        "colab": {
          "base_uri": "https://localhost:8080/"
        },
        "outputId": "7b250205-6e30-4f8f-baff-456a890ce10e"
      },
      "execution_count": 1,
      "outputs": [
        {
          "output_type": "stream",
          "name": "stdout",
          "text": [
            "[False False  True  True  True]\n",
            "[30 40 50]\n"
          ]
        }
      ]
    },
    {
      "cell_type": "markdown",
      "source": [
        "# Random Number"
      ],
      "metadata": {
        "id": "WWu2c7rHM_lH"
      }
    },
    {
      "cell_type": "code",
      "source": [
        "rng = np.random.default_rng()\n",
        "print(rng.integers(1,7))"
      ],
      "metadata": {
        "colab": {
          "base_uri": "https://localhost:8080/"
        },
        "id": "t888ZxQYLWzF",
        "outputId": "28ff8667-aff2-460a-b00a-a82fb4cf6976"
      },
      "execution_count": 22,
      "outputs": [
        {
          "output_type": "stream",
          "name": "stdout",
          "text": [
            "2\n"
          ]
        }
      ]
    },
    {
      "cell_type": "code",
      "source": [
        "print(np.random.uniform())"
      ],
      "metadata": {
        "colab": {
          "base_uri": "https://localhost:8080/"
        },
        "id": "qqy-qeSRNOam",
        "outputId": "e9992a5b-8aa3-4904-d80a-531514407269"
      },
      "execution_count": 27,
      "outputs": [
        {
          "output_type": "stream",
          "name": "stdout",
          "text": [
            "0.7724093675227789\n"
          ]
        }
      ]
    },
    {
      "cell_type": "code",
      "source": [
        "print(np.random.uniform(low=1,high=100))"
      ],
      "metadata": {
        "colab": {
          "base_uri": "https://localhost:8080/"
        },
        "id": "gZt-wFkKNrCe",
        "outputId": "9fe5f059-5532-4325-c967-ab3d43070ec0"
      },
      "execution_count": 33,
      "outputs": [
        {
          "output_type": "stream",
          "name": "stdout",
          "text": [
            "73.00538044260142\n"
          ]
        }
      ]
    },
    {
      "cell_type": "code",
      "source": [
        "array=np.array([1,2,3,4,5])\n",
        "print(array)"
      ],
      "metadata": {
        "colab": {
          "base_uri": "https://localhost:8080/"
        },
        "id": "CTaLqWKyN5Tu",
        "outputId": "b4d8dcd2-5759-4b57-f346-5bf7b0d0d7f3"
      },
      "execution_count": 34,
      "outputs": [
        {
          "output_type": "stream",
          "name": "stdout",
          "text": [
            "[1 2 3 4 5]\n"
          ]
        }
      ]
    },
    {
      "cell_type": "code",
      "source": [
        "rng = np.random.default_rng()\n",
        "rng.shuffle(array)\n",
        "print(array)"
      ],
      "metadata": {
        "colab": {
          "base_uri": "https://localhost:8080/"
        },
        "id": "B99PdmGFOUUm",
        "outputId": "fe310118-9470-48ac-bf82-827bb1ab5810"
      },
      "execution_count": 35,
      "outputs": [
        {
          "output_type": "stream",
          "name": "stdout",
          "text": [
            "[2 3 4 5 1]\n"
          ]
        }
      ]
    },
    {
      "cell_type": "code",
      "source": [
        "fruits = np.array(['apple','banana','coconut','pineapple','orange'])\n",
        "fruit = rng.choice(fruits)\n",
        "fruit = rng.choice(fruits,size=(3))\n",
        "fruit = rng.choice(fruits,size=(3,3))\n",
        "print(fruit)"
      ],
      "metadata": {
        "colab": {
          "base_uri": "https://localhost:8080/"
        },
        "id": "4s4lHhKhOeFe",
        "outputId": "10d0834a-7dbd-4894-a840-0142baa9be91"
      },
      "execution_count": 42,
      "outputs": [
        {
          "output_type": "stream",
          "name": "stdout",
          "text": [
            "[['banana' 'pineapple' 'apple']\n",
            " ['pineapple' 'orange' 'pineapple']\n",
            " ['banana' 'coconut' 'orange']]\n"
          ]
        }
      ]
    }
  ]
}